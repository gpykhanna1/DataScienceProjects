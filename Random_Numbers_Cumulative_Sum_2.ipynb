{
 "cells": [
  {
   "cell_type": "code",
   "execution_count": 3,
   "metadata": {},
   "outputs": [],
   "source": [
    "import numpy as np\n",
    "import pandas as pd\n",
    "import matplotlib.pyplot as plt"
   ]
  },
  {
   "cell_type": "code",
   "execution_count": 29,
   "metadata": {},
   "outputs": [
    {
     "name": "stdout",
     "output_type": "stream",
     "text": [
      "<class 'numpy.ndarray'>\n",
      "99999\n"
     ]
    }
   ],
   "source": [
    "t2 = np.arange(1,100000)\n",
    "# print(t2)\n",
    "print(type(t2))\n",
    "print(len(t2))"
   ]
  },
  {
   "cell_type": "code",
   "execution_count": 30,
   "metadata": {},
   "outputs": [
    {
     "name": "stdout",
     "output_type": "stream",
     "text": [
      "[]\n",
      "<class 'numpy.ndarray'>\n"
     ]
    }
   ],
   "source": [
    "s1 = np.array([])\n",
    "print(s1)\n",
    "print(type(s1))"
   ]
  },
  {
   "cell_type": "code",
   "execution_count": 31,
   "metadata": {},
   "outputs": [
    {
     "name": "stdout",
     "output_type": "stream",
     "text": [
      "[-1, 1]\n"
     ]
    }
   ],
   "source": [
    "a = [-1,1]\n",
    "print(a)"
   ]
  },
  {
   "cell_type": "code",
   "execution_count": 32,
   "metadata": {},
   "outputs": [
    {
     "data": {
      "text/plain": [
       "-1"
      ]
     },
     "execution_count": 32,
     "metadata": {},
     "output_type": "execute_result"
    }
   ],
   "source": [
    "np.random.choice(a,replace=False)"
   ]
  },
  {
   "cell_type": "code",
   "execution_count": 33,
   "metadata": {},
   "outputs": [
    {
     "name": "stdout",
     "output_type": "stream",
     "text": [
      "99999\n"
     ]
    }
   ],
   "source": [
    "for i in t2:\n",
    "    s1 = np.append(s1,np.random.choice(a,replace=False))\n",
    "# print(s1)\n",
    "print(len(s1))"
   ]
  },
  {
   "cell_type": "code",
   "execution_count": 34,
   "metadata": {},
   "outputs": [
    {
     "data": {
      "text/plain": [
       "[<matplotlib.lines.Line2D at 0x107d92cf8>]"
      ]
     },
     "execution_count": 34,
     "metadata": {},
     "output_type": "execute_result"
    },
    {
     "data": {
      "image/png": "[encoded data removed]",
      "text/plain": [
       "<Figure size 432x288 with 1 Axes>"
      ]
     },
     "metadata": {},
     "output_type": "display_data"
    }
   ],
   "source": [
    "plt.plot(t2,s1)"
   ]
  },
  {
   "cell_type": "code",
   "execution_count": 35,
   "metadata": {},
   "outputs": [
    {
     "name": "stdout",
     "output_type": "stream",
     "text": [
      "[]\n",
      "<class 'numpy.ndarray'>\n"
     ]
    }
   ],
   "source": [
    "s2 = np.array([])\n",
    "# r2 = [0]\n",
    "# print(r2[0])\n",
    "# print(r2[-1])\n",
    "print(s2)\n",
    "print(type(s2))"
   ]
  },
  {
   "cell_type": "code",
   "execution_count": 36,
   "metadata": {},
   "outputs": [
    {
     "name": "stdout",
     "output_type": "stream",
     "text": [
      "\n",
      "100000\n"
     ]
    }
   ],
   "source": [
    "s2 = [0]\n",
    "# for i in range(2):\n",
    "for i in range(len(s1)):\n",
    "    # print(str(i) + \",\" + str(r2[i-1]) + \",\" + str(r1[i]))\n",
    "    s2 = np.append(s2,s2[i] + s1[i])\n",
    "    # print(s2)\n",
    "\n",
    "print(\"\")\n",
    "print(len(s2))"
   ]
  },
  {
   "cell_type": "code",
   "execution_count": 37,
   "metadata": {},
   "outputs": [
    {
     "name": "stdout",
     "output_type": "stream",
     "text": [
      "0,0.0,1.0\n",
      "1,1.0,-1.0\n",
      "2,0.0,-1.0\n",
      "3,-1.0,1.0\n",
      "4,0.0,-1.0\n",
      "5,-1.0,1.0\n",
      "6,0.0,-1.0\n",
      "7,-1.0,-1.0\n",
      "8,-2.0,-1.0\n"
     ]
    }
   ],
   "source": [
    "for i in range(9):\n",
    "    print(str(i) + \",\" + str(s2[i]) + \",\" + str(s1[i]))"
   ]
  },
  {
   "cell_type": "code",
   "execution_count": 39,
   "metadata": {},
   "outputs": [
    {
     "name": "stdout",
     "output_type": "stream",
     "text": [
      "100000\n"
     ]
    }
   ],
   "source": [
    "t3 = np.insert(t2,0,0)\n",
    "# print(t3)\n",
    "print(len(t3))"
   ]
  },
  {
   "cell_type": "code",
   "execution_count": 48,
   "metadata": {},
   "outputs": [
    {
     "data": {
      "image/png": "[encoded data removed]",
      "text/plain": [
       "<Figure size 432x288 with 1 Axes>"
      ]
     },
     "metadata": {},
     "output_type": "display_data"
    }
   ],
   "source": [
    "plt.rc('text', usetex=True)\n",
    "plt.rc('font', family='Latin Modern Roman')\n",
    "\n",
    "plt.plot(t3,s2)\n",
    "plt.xlabel(r'\\textbf{Trial}')\n",
    "plt.ylabel(r'\\textbf{Cumulative Value}')\n",
    "plt.title(r'Cumulative Total of Coin Toss ($H = 1,\\  T = -1$)',fontsize=16)\n",
    "plt.grid(True)\n",
    "plt.savefig(\"random2.pdf\")\n",
    "plt.show()"
   ]
  },
  {
   "cell_type": "code",
   "execution_count": null,
   "metadata": {},
   "outputs": [],
   "source": []
  }
 ],
 "metadata": {
  "kernelspec": {
   "display_name": "Python 3",
   "language": "python",
   "name": "python3"
  },
  "language_info": {
   "codemirror_mode": {
    "name": "ipython",
    "version": 3
   },
   "file_extension": ".py",
   "mimetype": "text/x-python",
   "name": "python",
   "nbconvert_exporter": "python",
   "pygments_lexer": "ipython3",
   "version": "3.6.2"
  }
 },
 "nbformat": 4,
 "nbformat_minor": 2
}
