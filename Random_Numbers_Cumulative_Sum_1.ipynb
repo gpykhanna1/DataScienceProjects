{
 "cells": [
  {
   "cell_type": "code",
   "execution_count": 1,
   "metadata": {},
   "outputs": [
    {
     "name": "stderr",
     "output_type": "stream",
     "text": [
      "/Library/Frameworks/Python.framework/Versions/3.6/lib/python3.6/site-packages/matplotlib/font_manager.py:278: UserWarning: Matplotlib is building the font cache using fc-list. This may take a moment.\n",
      "  'Matplotlib is building the font cache using fc-list. '\n"
     ]
    }
   ],
   "source": [
    "import numpy as np\n",
    "import pandas as pd\n",
    "import matplotlib.pyplot as plt"
   ]
  },
  {
   "cell_type": "code",
   "execution_count": 2,
   "metadata": {},
   "outputs": [
    {
     "name": "stdout",
     "output_type": "stream",
     "text": [
      "{}\n"
     ]
    }
   ],
   "source": [
    "data = {}\n",
    "print(data)"
   ]
  },
  {
   "cell_type": "code",
   "execution_count": 3,
   "metadata": {},
   "outputs": [
    {
     "name": "stdout",
     "output_type": "stream",
     "text": [
      "0\n",
      "1\n",
      "2\n",
      "3\n",
      "4\n",
      "5\n",
      "6\n",
      "{0: 0.57542, 1: 0.86208, 2: 0.53821, 3: 0.75425, 4: 0.55644, 5: 0.08784, 6: 0.94145}\n"
     ]
    }
   ],
   "source": [
    "for i in range(7):\n",
    "    data[i] = round(np.random.uniform(),5)\n",
    "    print(i)\n",
    "print(data)"
   ]
  },
  {
   "cell_type": "code",
   "execution_count": 4,
   "metadata": {},
   "outputs": [],
   "source": [
    "a=5"
   ]
  },
  {
   "cell_type": "code",
   "execution_count": 5,
   "metadata": {},
   "outputs": [],
   "source": [
    "def add_numbers(a,b):\n",
    "    \"\"\"\n",
    "    Adds to numbers together\n",
    "    \n",
    "    Returns ... their sum!\n",
    "    \"\"\"\n",
    "    return a + b"
   ]
  },
  {
   "cell_type": "code",
   "execution_count": 6,
   "metadata": {},
   "outputs": [
    {
     "data": {
      "text/plain": [
       "21"
      ]
     },
     "execution_count": 6,
     "metadata": {},
     "output_type": "execute_result"
    }
   ],
   "source": [
    "add_numbers(10,11)"
   ]
  },
  {
   "cell_type": "code",
   "execution_count": 7,
   "metadata": {},
   "outputs": [
    {
     "name": "stdout",
     "output_type": "stream",
     "text": [
      "[[ 0.80460946  0.70976685  0.82026698  0.9729291   0.57854378]\n",
      " [ 0.74193819  0.1133122   0.99726021  0.2191726   0.39832285]\n",
      " [ 0.94255569  0.41448372  0.92731382  0.46872602  0.14588174]\n",
      " [ 0.6351071   0.42408173  0.66479706  0.1272927   0.79611963]\n",
      " [ 0.3456647   0.99320804  0.83033047  0.43660101  0.82458492]]\n",
      "\n",
      "[[ 0.01604782  0.52481971  0.3447429   0.08951233  0.27056897]\n",
      " [ 0.59350484  0.82498107  0.35332386  0.82274279  0.17907469]\n",
      " [ 0.37795278  0.3303759   0.98515669  0.47552568  0.79943917]\n",
      " [ 0.9697341   0.56804793  0.70764199  0.11376932  0.01529968]\n",
      " [ 0.8730373   0.74753695  0.93717919  0.36173891  0.22586212]]\n"
     ]
    }
   ],
   "source": [
    "b_1 = np.random.uniform(low=0, high=1, size=(5,5))\n",
    "b_2 = np.random.uniform(low=0, high=1, size=(5,5))\n",
    "print(b_1)\n",
    "print(\"\")\n",
    "print(b_2)"
   ]
  },
  {
   "cell_type": "code",
   "execution_count": 8,
   "metadata": {},
   "outputs": [
    {
     "name": "stdout",
     "output_type": "stream",
     "text": [
      "[[ 2.19275729  2.26396877  2.56693714  1.36600731  1.14611381]\n",
      " [ 1.01636494  1.23459653  1.80666702  0.80288624  1.11160498]\n",
      " [ 1.19350469  1.518286    1.85334332  0.97244311  1.11070137]\n",
      " [ 1.33163074  1.57024625  1.85990054  1.02435762  0.96100819]\n",
      " [ 2.05212693  2.13952865  2.3698362   1.59089571  1.12810561]]\n"
     ]
    }
   ],
   "source": [
    "c = b_1 @ b_2\n",
    "print(c)"
   ]
  },
  {
   "cell_type": "code",
   "execution_count": 9,
   "metadata": {},
   "outputs": [
    {
     "name": "stdout",
     "output_type": "stream",
     "text": [
      "1.386560717713401\n"
     ]
    }
   ],
   "source": [
    "c11 = b_1[]"
   ]
  },
  {
   "cell_type": "code",
   "execution_count": 11,
   "metadata": {},
   "outputs": [],
   "source": [
    "%matplotlib inline"
   ]
  },
  {
   "cell_type": "code",
   "execution_count": 31,
   "metadata": {},
   "outputs": [
    {
     "data": {
      "image/png": "[encoded data removed]",
      "text/plain": [
       "<Figure size 432x288 with 1 Axes>"
      ]
     },
     "metadata": {},
     "output_type": "display_data"
    }
   ],
   "source": [
    "t = np.arange(0.0, 2.0, 0.01)\n",
    "s = 1 + np.sin(2*np.pi*t)\n",
    "plt.plot(t, s)\n",
    "\n",
    "plt.xlabel('time (s)')\n",
    "plt.ylabel('voltage (mV)')\n",
    "plt.title('Plotting is Fun',fontsize=16)\n",
    "plt.grid(True)\n",
    "plt.savefig(\"test.png\")\n",
    "plt.show()"
   ]
  },
  {
   "cell_type": "code",
   "execution_count": 47,
   "metadata": {},
   "outputs": [
    {
     "name": "stdout",
     "output_type": "stream",
     "text": [
      "<class 'numpy.ndarray'>\n"
     ]
    }
   ],
   "source": [
    "# print(s)\n",
    "print(type(s))"
   ]
  },
  {
   "cell_type": "code",
   "execution_count": 79,
   "metadata": {},
   "outputs": [
    {
     "data": {
      "text/plain": [
       "array([2, 3, 4, 5, 6, 7, 8, 9])"
      ]
     },
     "execution_count": 79,
     "metadata": {},
     "output_type": "execute_result"
    }
   ],
   "source": [
    "np.arange(2,10)"
   ]
  },
  {
   "cell_type": "markdown",
   "metadata": {},
   "source": [
    "Let's try writing code that generates arrays of random numbers between -1 and 1, but then creates an array that is a cumulative sum of these.  We shall see that even though we are generating a set of random numbers which should sum to zero, we are really never at zero for very long."
   ]
  },
  {
   "cell_type": "code",
   "execution_count": 200,
   "metadata": {},
   "outputs": [
    {
     "name": "stdout",
     "output_type": "stream",
     "text": [
      "1.56 ms ± 35.9 µs per loop (mean ± std. dev. of 7 runs, 1000 loops each)\n",
      "<class 'numpy.ndarray'>\n",
      "999999\n"
     ]
    }
   ],
   "source": [
    "%timeit t1 = np.arange(1,1000000)\n",
    "# print(t1)\n",
    "print(type(t1))\n",
    "print(len(t1))"
   ]
  },
  {
   "cell_type": "code",
   "execution_count": 201,
   "metadata": {},
   "outputs": [
    {
     "name": "stdout",
     "output_type": "stream",
     "text": [
      "[]\n",
      "<class 'numpy.ndarray'>\n"
     ]
    }
   ],
   "source": [
    "r1 = np.array([])\n",
    "print(r1)\n",
    "print(type(r1))"
   ]
  },
  {
   "cell_type": "code",
   "execution_count": 202,
   "metadata": {},
   "outputs": [
    {
     "name": "stdout",
     "output_type": "stream",
     "text": [
      "999999\n"
     ]
    }
   ],
   "source": [
    "for i in t1:\n",
    "    r1 = np.append(r1,np.random.uniform(low=-1, high=1))\n",
    "# print(r1)\n",
    "print(len(r1))"
   ]
  },
  {
   "cell_type": "code",
   "execution_count": 203,
   "metadata": {},
   "outputs": [
    {
     "data": {
      "text/plain": [
       "[<matplotlib.lines.Line2D at 0x114d75240>]"
      ]
     },
     "execution_count": 203,
     "metadata": {},
     "output_type": "execute_result"
    },
    {
     "data": {
      "image/png": "[encoded data removed]",
      "text/plain": [
       "<Figure size 432x288 with 1 Axes>"
      ]
     },
     "metadata": {},
     "output_type": "display_data"
    }
   ],
   "source": [
    "plt.plot(t1,r1)"
   ]
  },
  {
   "cell_type": "code",
   "execution_count": 206,
   "metadata": {},
   "outputs": [
    {
     "name": "stdout",
     "output_type": "stream",
     "text": [
      "[]\n",
      "<class 'numpy.ndarray'>\n"
     ]
    }
   ],
   "source": [
    "r2 = np.array([])\n",
    "# r2 = [0]\n",
    "# print(r2[0])\n",
    "# print(r2[-1])\n",
    "print(r2)\n",
    "print(type(r2))"
   ]
  },
  {
   "cell_type": "code",
   "execution_count": 207,
   "metadata": {},
   "outputs": [
    {
     "name": "stdout",
     "output_type": "stream",
     "text": [
      "\n",
      "1000000\n"
     ]
    }
   ],
   "source": [
    "r2 = [0]\n",
    "# print(len(r1))\n",
    "# for i in range(2):\n",
    "for i in range(len(r1)):\n",
    "    # print(str(i) + \",\" + str(r2[i-1]) + \",\" + str(r1[i]))\n",
    "    r2 = np.append(r2,r2[i] + r1[i])\n",
    "    # print(r2)\n",
    "\n",
    "print(\"\")\n",
    "print(len(r2))"
   ]
  },
  {
   "cell_type": "markdown",
   "metadata": {},
   "source": [
    "Sanity check: let's print out the first few elements of r1 and r2 to make sure they are indeed cumulative"
   ]
  },
  {
   "cell_type": "code",
   "execution_count": 208,
   "metadata": {},
   "outputs": [
    {
     "name": "stdout",
     "output_type": "stream",
     "text": [
      "0,0.0,-0.462630171449\n",
      "1,-0.462630171449,-0.656162355314\n",
      "2,-1.11879252676,0.296584911746\n"
     ]
    }
   ],
   "source": [
    "for i in range(3):\n",
    "    print(str(i) + \",\" + str(r2[i]) + \",\" + str(r1[i]))"
   ]
  },
  {
   "cell_type": "code",
   "execution_count": 209,
   "metadata": {},
   "outputs": [
    {
     "data": {
      "text/plain": [
       "-1.118792526763"
      ]
     },
     "execution_count": 209,
     "metadata": {},
     "output_type": "execute_result"
    }
   ],
   "source": [
    "-0.462630171449 + -0.656162355314"
   ]
  },
  {
   "cell_type": "code",
   "execution_count": 210,
   "metadata": {},
   "outputs": [
    {
     "name": "stdout",
     "output_type": "stream",
     "text": [
      "1000000\n"
     ]
    }
   ],
   "source": [
    "t2 = np.insert(t1,0,0)\n",
    "# print(t2)\n",
    "print(len(t2))"
   ]
  },
  {
   "cell_type": "code",
   "execution_count": 211,
   "metadata": {},
   "outputs": [
    {
     "data": {
      "image/png": "[encoded data removed]",
      "text/plain": [
       "<Figure size 432x288 with 1 Axes>"
      ]
     },
     "metadata": {},
     "output_type": "display_data"
    }
   ],
   "source": [
    "plt.plot(t2,r2)\n",
    "plt.xlabel('Trial')\n",
    "plt.ylabel('Cumulative Value')\n",
    "plt.title('Cumulative Total of Random Numbers from -1 to 1',fontsize=16)\n",
    "plt.grid(True)\n",
    "plt.savefig(\"random1.pdf\")\n",
    "plt.show()"
   ]
  },
  {
   "cell_type": "code",
   "execution_count": null,
   "metadata": {},
   "outputs": [],
   "source": []
  }
 ],
 "metadata": {
  "kernelspec": {
   "display_name": "Python 3",
   "language": "python",
   "name": "python3"
  },
  "language_info": {
   "codemirror_mode": {
    "name": "ipython",
    "version": 3
   },
   "file_extension": ".py",
   "mimetype": "text/x-python",
   "name": "python",
   "nbconvert_exporter": "python",
   "pygments_lexer": "ipython3",
   "version": "3.6.2"
  }
 },
 "nbformat": 4,
 "nbformat_minor": 2
}
